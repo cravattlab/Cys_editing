{
 "cells": [
  {
   "cell_type": "code",
   "execution_count": 1,
   "metadata": {},
   "outputs": [],
   "source": [
    "# This code is used to design sgRNAs based on the PAM sequences.\n",
    "# It also predicts the associated base editing outcomes.\n",
    "# please also cite Hwang, G.-H. et al. Web-based design and analysis tools for CRISPR base editing. BMC Bioinformatics 19, 542 (2018)."
   ]
  },
  {
   "cell_type": "code",
   "execution_count": 1,
   "metadata": {},
   "outputs": [],
   "source": [
    "import os, re\n",
    "import pandas as pd\n",
    "import numpy as np\n",
    "import pysam"
   ]
  },
  {
   "cell_type": "code",
   "execution_count": 2,
   "metadata": {},
   "outputs": [],
   "source": [
    "def reverse_complement(s):\n",
    "    return str(s).translate(str.maketrans('ATGC','TACG'))[::-1]"
   ]
  },
  {
   "cell_type": "code",
   "execution_count": 3,
   "metadata": {},
   "outputs": [],
   "source": [
    "def finditer_everything(pattern, string):\n",
    "    pattern = re.compile(pattern)\n",
    "    pos = 0\n",
    "    m = pattern.search(string, pos)\n",
    "    while m is not None:\n",
    "        yield m\n",
    "        pos = m.start() + 1\n",
    "        m = pattern.search(string, pos)"
   ]
  },
  {
   "cell_type": "code",
   "execution_count": 4,
   "metadata": {},
   "outputs": [],
   "source": [
    "def target_yield(query_seq, seed_len, pam_seq):\n",
    "\n",
    "    pattern = seed_len*'N' + pam_seq\n",
    "    pattern_rev = pattern.translate(t)[::-1]\n",
    "    pattern = \"(\" + pattern + \")|(\" + pattern_rev + \")\"\n",
    "    pattern = pattern.replace('N', '[AGTC]').replace('R', '[AG]').replace('W', '[AT]').replace('M', '[AC]').replace('Y', '[CT]').replace('S', '[GC]').replace('K', '[GT]').replace('B', '[CGT]').replace('D', '[AGT]').replace('H', '[ACT]').replace('V', '[ACG]')\n",
    "    pattern_rev = pattern_rev.replace('N', '[AGTC]').replace('R', '[AG]').replace('W', '[AT]').replace('M', '[AC]').replace('Y', '[CT]').replace('S', '[GC]').replace('K', '[GT]').replace('B', '[CGT]').replace('D', '[AGT]').replace('H', '[ACT]').replace('V', '[ACG]')\n",
    "    p_rev = re.compile(pattern_rev)\n",
    "\n",
    "    revmatch = False\n",
    "    for m in finditer_everything(pattern, query_seq):\n",
    "        for i in (1, 2): \n",
    "            # combined (0), forward (1) and reverse (2) matching\n",
    "            # When there is a match, or a match on both ends (revisit).\n",
    "            if m.group(i) or revmatch:\n",
    "                if i == 1:\n",
    "                    seq_match = m.group(i)\n",
    "                    direction = '+'\n",
    "                    # If the sgRNA can be also matched in the rev direction,\n",
    "                    # it will show up in group 1 only but we will need to revist.\n",
    "                    if p_rev.match(m.group(i)) is not None:\n",
    "                        revmatch = True # This labels future revisit\n",
    "                else:\n",
    "                    if revmatch:\n",
    "                        seq_match = m.group(1).translate(t)[::-1]\n",
    "                        revmatch = False\n",
    "                    else:\n",
    "                        seq_match = m.group(i).translate(t)[::-1]\n",
    "                    direction = '-'\n",
    "                # target seq in + strand, guide direction, actual target seq, start pos (0-index)\n",
    "                yield (m.group(), direction, seq_match, m.start())"
   ]
  },
  {
   "cell_type": "code",
   "execution_count": null,
   "metadata": {},
   "outputs": [],
   "source": []
  },
  {
   "cell_type": "code",
   "execution_count": 5,
   "metadata": {},
   "outputs": [],
   "source": [
    "def find_targets(query_seq, ref_base, alt_base):\n",
    "    targets = []\n",
    "    for target in target_yield(query_seq, seed_len, pam_seq):\n",
    "        pos = int(target[3])\n",
    "        #both start and end are included in the x-nt window\n",
    "        if target[1] == '+': # guide strand\n",
    "            window_start_abs = pos + seed_len - window_ed\n",
    "            window_end_abs = pos + seed_len - window_st          \n",
    "\n",
    "        else:\n",
    "            window_start_abs = pos + pam_len -1 + window_st\n",
    "            window_end_abs = pos + pam_len - 1 + window_ed\n",
    "            \n",
    "        # Adjust the extra adaptor intron sequences.\n",
    "        window_start_abs -= adapt_len\n",
    "        window_end_abs -= adapt_len\n",
    "        \n",
    "        # There is adaptor intron sequence in the input. \n",
    "        # Window start/end are based on the middle exon seq\n",
    "        # Anything outside the exon window needs to be removed.\n",
    "        if window_end_abs <= -1 or window_start_abs >= (len(query_seq) - 2*adapt_len):\n",
    "            window_seq = ''\n",
    "        else:\n",
    "            window_start_abs = max(window_start_abs, 0)\n",
    "            # It is \"-2*adapt_len -1\"\n",
    "            window_end_abs = min(window_end_abs, len(query_seq) - 2*adapt_len - 1)\n",
    "            # Note the window seq always refers to the + strand.\n",
    "            # The DNA at window_end_abs will be included.\n",
    "            window_seq = query_seq[adapt_len:][window_start_abs: window_end_abs + 1]\n",
    "        \n",
    "        mutated_window_seq = ''\n",
    "        for i in range(len(window_seq)):\n",
    "            if window_seq[i] == ref_base and target[1] == '+':\n",
    "                mutated_window_seq += alt_base\n",
    "            elif window_seq[i] == reverse_complement(ref_base) and target[1] == '-':\n",
    "                mutated_window_seq += reverse_complement(alt_base)\n",
    "            else:\n",
    "                mutated_window_seq += window_seq[i]\n",
    "\n",
    "        window_pos = [window_start_abs, window_end_abs]\n",
    "        \n",
    "        if mutated_window_seq != window_seq:\n",
    "            if window_seq != '':\n",
    "                #target seq in + strand:[0], guide strand / direction:[1], \n",
    "                # actual target seq:[2], start pos (0-index):[3]\n",
    "                # Note: both window_seq and mutated_window_seq\n",
    "                # are based on + ref strand seq.\n",
    "                targets.append([target[2], \n",
    "                                target[3]-adapt_len, \n",
    "                                target[1], \n",
    "                                window_seq, \n",
    "                                mutated_window_seq, \n",
    "                                window_pos])\n",
    "        \n",
    "    return(targets)"
   ]
  },
  {
   "cell_type": "code",
   "execution_count": 6,
   "metadata": {},
   "outputs": [],
   "source": [
    "def compare_aa(original_CDS, mutated_CDS):\n",
    "    if len(original_CDS) != len(mutated_CDS) or len(original_CDS)%3 !=0:\n",
    "        print('The input CDS is wrong.')\n",
    "    aa_len = int(len(original_CDS) // 3)\n",
    "    aa_change = []\n",
    "    for i in range(aa_len):\n",
    "        from_aa = amino_sym[original_CDS[3*i:(3*i+3)]]\n",
    "        to_aa = amino_sym[mutated_CDS[3*i:(3*i+3)]]\n",
    "        if from_aa != to_aa:\n",
    "            # The position is 1-indexed in protein\n",
    "            aa_change.append([(i+1), from_aa, to_aa])\n",
    "    return aa_change"
   ]
  },
  {
   "cell_type": "code",
   "execution_count": 7,
   "metadata": {},
   "outputs": [],
   "source": [
    "def extract_genome_seq(chromosome, start_pos, end_pos):\n",
    "    query_seq = ref_genome.fetch(chromosome, start_pos-1, end_pos)\n",
    "    return query_seq"
   ]
  },
  {
   "cell_type": "code",
   "execution_count": 8,
   "metadata": {},
   "outputs": [],
   "source": [
    "def design_guides(data, ref_base, alt_base):\n",
    "    exon_count = data.shape[0]\n",
    "    exon_seqs_original = []\n",
    "    # This will collect data based on different exons.\n",
    "    combined_targets = []\n",
    "\n",
    "    for ex in range(exon_count):\n",
    "        exon_seqs_original += [extract_genome_seq(chromosome='chr'+str(data.iloc[ex, 2]),\n",
    "                                       start_pos=data.iloc[ex, 3], \n",
    "                                       end_pos=data.iloc[ex, 4])]\n",
    "        \n",
    "    for ex in range(exon_count):\n",
    "        query_seq = extract_genome_seq(chromosome='chr'+str(data.iloc[ex, 2]),\n",
    "                                       start_pos=data.iloc[ex, 3]-21, \n",
    "                                       end_pos=data.iloc[ex, 4]+21)\n",
    "        strands = set(data.iloc[:, 5].values.tolist())\n",
    "        if len(strands) != 1:\n",
    "            print('Strand definition is wrong')\n",
    "        else:\n",
    "            strand = list(strands)[0]\n",
    "\n",
    "        ## Run function to get the target sgRNAs.\n",
    "        targets = find_targets(query_seq, ref_base, alt_base)\n",
    "        \n",
    "        for sg in range(len(targets)):\n",
    "            exon_seqs = exon_seqs_original.copy()\n",
    "            window_start_abs = targets[sg][5][0]\n",
    "            window_end_abs = targets[sg][5][1]\n",
    "            # This is the gene strand    \n",
    "            if strand == '+':\n",
    "                original_CDS = ''.join(exon_seqs)\n",
    "                mutated_exon = exon_seqs[ex][:window_start_abs] + targets[sg][4] + exon_seqs[ex][(window_end_abs+1):]\n",
    "                exon_seqs[ex] = mutated_exon\n",
    "                mutated_CDS = ''.join(exon_seqs)\n",
    "            \n",
    "            # If the protein is encoded by the - strand.\n",
    "            # The reverse complement of CDS is needed.\n",
    "            else:\n",
    "                original_CDS = ''.join([reverse_complement(kk) for kk in exon_seqs])\n",
    "                mutated_exon = exon_seqs[ex][:window_start_abs] + targets[sg][4] + exon_seqs[ex][(window_end_abs+1):]\n",
    "                exon_seqs[ex] = mutated_exon\n",
    "                mutated_CDS = ''.join([reverse_complement(kk) for kk in exon_seqs])\n",
    "            \n",
    "            aa_result = compare_aa(original_CDS, mutated_CDS)        \n",
    "            combined_targets.append([data.iloc[ex, 1]] +\n",
    "                                    [data.iloc[ex, 2]] +\n",
    "                                    [data.iloc[ex, 3]] +\n",
    "                                    [data.iloc[ex, 4]] +\n",
    "                                    [data.iloc[ex, 5]] +\n",
    "                                    [data.iloc[ex, 0]] +\n",
    "                                    targets[sg] + \n",
    "                                    [aa_result])\n",
    "    return combined_targets"
   ]
  },
  {
   "cell_type": "code",
   "execution_count": 9,
   "metadata": {},
   "outputs": [],
   "source": [
    "def create_library(ENSP_db_path, output_folder, output_name, ref_base, alt_base, ID):\n",
    "\n",
    "    input_data = pd.read_csv(ENSP_db_path, dtype={\"chr\": \"string\"})\n",
    "    input_data = input_data.rename(columns={'Unnamed: 0': 'exon_num'})\n",
    "    #input_data.head()\n",
    "\n",
    "    unique_ENSP = input_data.loc[:, 'ENSP'].unique()\n",
    "    input_data.index = input_data.loc[:, 'ENSP']\n",
    "    col_names = ['ENSP', 'chr', 'genome_start', 'genome_end', 'gene_strand',\n",
    "                'exon_num','target_seq_wPAM', 'st_pos_in_exon', \n",
    "                'guide_strand', 'window_seq_pos_strand','mutated_window_seq_pos_strand', \n",
    "                'window_pos_index0', 'aa_pos_from_to']\n",
    "\n",
    "    # Create an empty df\n",
    "    combined_results_df = pd.DataFrame(columns = col_names)\n",
    "    #len(unique_ENSP)\n",
    "    for i in range(len(unique_ENSP)):\n",
    "        if (i%100==0):\n",
    "            print(i)\n",
    "        ENSP_data = input_data.loc[[unique_ENSP[i]], :]\n",
    "        results = design_guides(ENSP_data, ref_base, alt_base)\n",
    "        results_df = pd.DataFrame(results)\n",
    "        results_df.columns = col_names\n",
    "        combined_results_df = combined_results_df.append(results_df)\n",
    "\n",
    "    # Reindex the df\n",
    "    combined_results_df.index = list(range(combined_results_df.shape[0]))\n",
    "    \n",
    "    # save the results\n",
    "    combined_results_df.to_pickle(os.path.join(output_folder, output_name+str(ID)+\".pkl\"))\n",
    "    #combined_results_df.to_csv(os.path.join(output_folder, output_name+\".csv\"))\n"
   ]
  },
  {
   "cell_type": "code",
   "execution_count": null,
   "metadata": {},
   "outputs": [],
   "source": []
  },
  {
   "cell_type": "code",
   "execution_count": 11,
   "metadata": {},
   "outputs": [
    {
     "name": "stdout",
     "output_type": "stream",
     "text": [
      "0\n",
      "0\n"
     ]
    }
   ],
   "source": [
    "# Set the parameters that will be used globally.\n",
    "seed_len = 20\n",
    "pam_seq = 'NGNN'\n",
    "amino_sym = {\"TGG\": \"W\", \"GGG\": \"G\", \"GTT\": \"V\", \"CGG\": \"R\", \"ACT\": \"T\", \"TGA\": \"X\", \"CTA\": \"L\", \"TCC\": \"S\",\"GAA\": \"E\", \"CCA\": \"P\", \"GAC\": \"D\", \"ACC\": \"T\", \"TTT\": \"F\", \"CTC\": \"L\", \"GCT\": \"A\", \"CCC\": \"P\", \"TCG\": \"S\", \"CAT\": \"H\", \"GTC\": \"V\", \"CGA\": \"R\", \"CAG\": \"Q\", \"ATA\": \"I\", \"AAG\": \"K\", \"CCG\": \"P\", \"GGA\": \"G\", \"AGC\": \"S\", \"TAT\": \"Y\", \"CTG\": \"L\", \"ACG\": \"T\", \"GAG\": \"E\", \"GCT\": \"A\", \"TGC\": \"C\", \"TGT\": \"C\", \"AGG\": \"R\", \"ATG\": \"M\", \"TTA\": \"L\", \"GCA\": \"A\", \"AAT\": \"N\", \"GTA\": \"V\", \"GGT\": \"G\", \"AGA\": \"R\", \"CGC\": \"R\", \"ATC\": \"I\", \"TAC\": \"Y\", \"TTG\": \"L\", \"ACA\": \"T\", \"GCG\": \"A\", \"CTT\": \"L\", \"ATT\": \"I\", \"CGT\": \"R\", \"CAC\": \"H\", \"TCA\": \"S\", \"CCT\": \"P\", \"TAA\": \"X\", \"GAT\": \"D\", \"GTG\": \"V\", \"AAA\": \"K\", \"AAC\": \"N\", \"GGC\": \"G\", \"TTC\": \"F\", \"CAA\": \"Q\", \"AGT\": \"S\", \"TAG\": \"X\", \"TCT\": \"S\", \"GCC\": \"A\"}\n",
    "ref_genome = pysam.FastaFile(\"data/GRCh38.p7.genome.fa\")\n",
    "t = str.maketrans(\"ATGCRYSWKMBDHV\", \"TACGYRWSMKVHDB\")\n",
    "pam_len = len(pam_seq)\n",
    "adapt_len = 21\n",
    "window_st = 13 # 10 for evoCDA, 13 for ABE8e/BE4max.\n",
    "window_ed = 17 # 20 for evoCDA, 17 for ABE8e/BE4max.\n",
    "\n",
    "ENSP_db_path = \"data/ENSP_input_example.txt\"\n",
    "output_folder = 'data/'\n",
    "\n",
    "create_library(ENSP_db_path, output_folder, output_name='all_CBE_', ref_base='C', alt_base='T', ID=1)\n",
    "create_library(ENSP_db_path, output_folder, output_name='all_ABE_', ref_base='A', alt_base='G', ID=1)\n"
   ]
  },
  {
   "cell_type": "code",
   "execution_count": null,
   "metadata": {},
   "outputs": [],
   "source": []
  },
  {
   "cell_type": "code",
   "execution_count": null,
   "metadata": {},
   "outputs": [],
   "source": []
  },
  {
   "cell_type": "code",
   "execution_count": null,
   "metadata": {},
   "outputs": [],
   "source": []
  },
  {
   "cell_type": "code",
   "execution_count": null,
   "metadata": {},
   "outputs": [],
   "source": []
  },
  {
   "cell_type": "code",
   "execution_count": null,
   "metadata": {},
   "outputs": [],
   "source": []
  },
  {
   "cell_type": "code",
   "execution_count": null,
   "metadata": {},
   "outputs": [],
   "source": []
  },
  {
   "cell_type": "code",
   "execution_count": null,
   "metadata": {},
   "outputs": [],
   "source": []
  },
  {
   "cell_type": "code",
   "execution_count": null,
   "metadata": {},
   "outputs": [],
   "source": []
  },
  {
   "cell_type": "code",
   "execution_count": null,
   "metadata": {},
   "outputs": [],
   "source": []
  },
  {
   "cell_type": "code",
   "execution_count": null,
   "metadata": {},
   "outputs": [],
   "source": []
  },
  {
   "cell_type": "code",
   "execution_count": null,
   "metadata": {},
   "outputs": [],
   "source": []
  },
  {
   "cell_type": "code",
   "execution_count": null,
   "metadata": {},
   "outputs": [],
   "source": []
  }
 ],
 "metadata": {
  "kernelspec": {
   "display_name": "Python 3",
   "language": "python",
   "name": "python3"
  },
  "language_info": {
   "codemirror_mode": {
    "name": "ipython",
    "version": 3
   },
   "file_extension": ".py",
   "mimetype": "text/x-python",
   "name": "python",
   "nbconvert_exporter": "python",
   "pygments_lexer": "ipython3",
   "version": "3.7.4"
  }
 },
 "nbformat": 4,
 "nbformat_minor": 2
}
