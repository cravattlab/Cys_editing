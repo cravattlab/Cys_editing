{
 "cells": [
  {
   "cell_type": "code",
   "execution_count": 1,
   "metadata": {},
   "outputs": [],
   "source": [
    "import os\n",
    "import pandas as pd\n",
    "import numpy as np"
   ]
  },
  {
   "cell_type": "code",
   "execution_count": 2,
   "metadata": {},
   "outputs": [],
   "source": [
    "def reverse_complement(s):\n",
    "    return str(s).translate(str.maketrans('ATGC','TACG'))[::-1]"
   ]
  },
  {
   "cell_type": "code",
   "execution_count": 3,
   "metadata": {},
   "outputs": [],
   "source": [
    "def get_ENSP_d():\n",
    "    principal_ENSP_v1 = pd.read_table(\"data/appris_clean_v3.txt\", sep=',')\n",
    "    d = {}\n",
    "    for i in range(principal_ENSP_v1.shape[0]):\n",
    "        ENSP = principal_ENSP_v1.iloc[i, :]['ENSP']\n",
    "        HUGO = principal_ENSP_v1.iloc[i, :]['HUGO']\n",
    "        d[HUGO] = ENSP\n",
    "    return d"
   ]
  },
  {
   "cell_type": "code",
   "execution_count": 4,
   "metadata": {},
   "outputs": [],
   "source": [
    "def get_HUGO_d():\n",
    "    principal_ENSP_v1 = pd.read_table(\"data/appris_clean_v3.txt\", sep=',')\n",
    "    d = {}\n",
    "    for i in range(principal_ENSP_v1.shape[0]):\n",
    "        ENSP = principal_ENSP_v1.iloc[i, :]['ENSP']\n",
    "        HUGO = principal_ENSP_v1.iloc[i, :]['HUGO']\n",
    "        d[ENSP] = HUGO\n",
    "    return d"
   ]
  },
  {
   "cell_type": "code",
   "execution_count": 5,
   "metadata": {},
   "outputs": [],
   "source": [
    "def get_combined_sgRNA(database, HUGO):\n",
    "    \n",
    "    ENSP = ENSP_d[HUGO]\n",
    "    target_seq_wPAM = database.loc[database['ENSP'] == ENSP, 'target_seq_wPAM']\n",
    "    combined_sgRNA_list = list(target_seq_wPAM)\n",
    "\n",
    "    return combined_sgRNA_list"
   ]
  },
  {
   "cell_type": "code",
   "execution_count": 6,
   "metadata": {},
   "outputs": [],
   "source": [
    "def get_unique_sgRNA(data_ABE, data_CBE, HUGO):\n",
    "    \n",
    "    sgRNA_ABE = get_combined_sgRNA(database=data_ABE, HUGO=HUGO)\n",
    "    sgRNA_CBE = get_combined_sgRNA(database=data_CBE, HUGO=HUGO)\n",
    "    \n",
    "    unique_sgRNA_list = list(set(sgRNA_ABE + sgRNA_CBE))\n",
    "    \n",
    "    unique_sgRNA_df = {'HUGO': HUGO, 'ENSP': ENSP_d[HUGO], 'target_seq_wPAM': unique_sgRNA_list}\n",
    "    unique_sgRNA_df = pd.DataFrame(unique_sgRNA_df)\n",
    "    \n",
    "    return unique_sgRNA_df"
   ]
  },
  {
   "cell_type": "code",
   "execution_count": 7,
   "metadata": {},
   "outputs": [],
   "source": [
    "def get_sgRNA_main(sublib_ID, HUGO_input, data_ABE, data_CBE):\n",
    "    \n",
    "    res = []\n",
    "    #for sublib_ID in range(len(HUGO_input)):\n",
    "    for HUGO in (HUGO_input[sublib_ID]):\n",
    "        unique_sgRNA_df = get_unique_sgRNA(data_ABE, data_CBE, HUGO)\n",
    "        unique_sgRNA_df['target_seq_woPAM'] = [ss[:-4] for ss in unique_sgRNA_df['target_seq_wPAM']]\n",
    "        # To design sgRNA with BsmBI sites.\n",
    "        full_oligo = fwd_primers[sublib_ID] + \"CGTCTCACACCG\" + unique_sgRNA_df['target_seq_woPAM'] + \"GTTTCGAGACG\" + rev_primers[sublib_ID]\n",
    "        unique_sgRNA_df['oligo_order'] = full_oligo\n",
    "        unique_sgRNA_df['sublib_ID'] = sublib_ID\n",
    "        # Get unique names\n",
    "        unique_names = [(HUGO + \"_\" + str(i)) for i in range(unique_sgRNA_df.shape[0])]\n",
    "        unique_sgRNA_df['unique_names'] =  unique_names\n",
    "\n",
    "        res = res + [unique_sgRNA_df]\n",
    "            \n",
    "    df = pd.concat(res)\n",
    "    return df"
   ]
  },
  {
   "cell_type": "code",
   "execution_count": 8,
   "metadata": {},
   "outputs": [],
   "source": [
    "def get_sgRNA_control(sublib_ID, top_N=510):\n",
    "\n",
    "    control_sgRNA_df = pd.read_table(\"data/control_sgRNA_table.txt\")\n",
    "    \n",
    "    fwd_primer_list = [fwd_primers[sublib_ID] for kk in range(top_N)]\n",
    "    rev_primer_list = [rev_primers[sublib_ID] for kk in range(top_N)]\n",
    "    \n",
    "    partial_oligo = \"CGTCTCACACCG\" + control_sgRNA_df.loc[range(top_N), 'sgRNA'] + \"GTTTCGAGACG\"\n",
    "    full_oligo = fwd_primer_list + partial_oligo + rev_primer_list\n",
    "    \n",
    "    control_sgRNA_df.loc[range(top_N), 'oligo_order'] = full_oligo\n",
    "    control_sgRNA_df.loc[range(top_N), 'sublib_ID'] = sublib_ID\n",
    "\n",
    "    return control_sgRNA_df.loc[range(top_N), :]"
   ]
  },
  {
   "cell_type": "code",
   "execution_count": 9,
   "metadata": {},
   "outputs": [],
   "source": [
    "# Some oligos have BsmBI cutting sites.\n",
    "def remove_bad_oligos(data):\n",
    "    cut_sites = [\"CGTCTC\", \"GAGACG\"]\n",
    "    cleavage_res = []\n",
    "    for oligo in data['oligo_order']:\n",
    "        cleavage_res += [oligo.count(cut_sites[0]) + oligo.count(cut_sites[1])]\n",
    "\n",
    "    sel = [(i==2) for i in cleavage_res]\n",
    "    return data.loc[sel, :]"
   ]
  },
  {
   "cell_type": "code",
   "execution_count": 10,
   "metadata": {},
   "outputs": [],
   "source": [
    "def remove_T4(data_1):\n",
    "    data_1.index = list(range(data_1.shape[0]))\n",
    "    target_seq_wPAM = list(data_1['target_seq_wPAM'])\n",
    "    target_seq_woPAM = [ss[:-4] for ss in target_seq_wPAM]\n",
    "    no_T4 = pd.Series(['TTTT' not in sg for sg in target_seq_woPAM])\n",
    "    res = data_1.loc[no_T4, :]\n",
    "    res.index = list(range(res.shape[0]))\n",
    "    return(res)"
   ]
  },
  {
   "cell_type": "code",
   "execution_count": 11,
   "metadata": {},
   "outputs": [],
   "source": [
    "# Define a list of aa positions that are close to the ligandable Cys.\n",
    "# Use Cys +/- 3 amino acid (7-aa-window to increase sgRNA coverage of the site).\n",
    "def get_ID_set(Cys_df):\n",
    "    ID_list = []\n",
    "    for i in range(Cys_df.shape[0]):\n",
    "        aa_center = Cys_df.loc[i, 'Ev87_Cys']\n",
    "        HUGO_temp = Cys_df.loc[i, 'HUGO']\n",
    "        ID_temp = [(HUGO_temp + '_' + str(aa)) for aa in range(aa_center-3, aa_center+4)]\n",
    "        ID_list = ID_list + ID_temp\n",
    "        ID_set = set(ID_list)\n",
    "        \n",
    "    return ID_set"
   ]
  },
  {
   "cell_type": "code",
   "execution_count": 12,
   "metadata": {},
   "outputs": [],
   "source": [
    "def clean_data_input_local_saturated(data, ID_set):\n",
    "    \n",
    "    # Select sgRNAs that are targeting the region of interest.\n",
    "    row_sel = []\n",
    "    for i in range(data.shape[0]):\n",
    "        pos_vec_temp = data.iloc[i, :]['aa_pos_from_to']\n",
    "        HUGO_temp = data.iloc[i, :]['HUGO']\n",
    "        pos_list = [each_list[0] for each_list in pos_vec_temp]\n",
    "        ID_list_temp = [(HUGO_temp + '_' + str(pos)) for pos in pos_list]\n",
    "        overlap = [(ID in ID_set) for ID in ID_list_temp]\n",
    "        row_sel.append(any(overlap))\n",
    "        \n",
    "    res = data.loc[row_sel, :]\n",
    "    \n",
    "    return res"
   ]
  },
  {
   "cell_type": "code",
   "execution_count": 13,
   "metadata": {},
   "outputs": [],
   "source": [
    "def clean_data_input_global(data, target_genes):\n",
    "    \n",
    "    # Keep non-empty data\n",
    "    target_seq_wPAM = data['target_seq_wPAM']\n",
    "    non_empty = target_seq_wPAM != '' # No sgRNA designed\n",
    "    data = data.loc[non_empty, :]\n",
    "\n",
    "    # Need to add HUGO and target_seq_woPAM columns\n",
    "    target_seq_woPAM = [ss[:-4] for ss in data['target_seq_wPAM']]\n",
    "    data['target_seq_woPAM'] = target_seq_woPAM\n",
    "    HUGO_list = [HUGO_d[ENSP] for ENSP in data['ENSP']]\n",
    "    data.insert(0, 'HUGO', HUGO_list)\n",
    "    \n",
    "    overlap_sel = [(HUGO in target_genes) for HUGO in HUGO_list]\n",
    "\n",
    "    res = remove_T4(data.loc[overlap_sel, :])\n",
    "    \n",
    "    return res"
   ]
  },
  {
   "cell_type": "code",
   "execution_count": 14,
   "metadata": {},
   "outputs": [],
   "source": [
    "fwd_primers = [\"AGGCACTTGCTCGTACGACG\", \"GTGTAACCCGTAGGGCACCT\", \"CAGCGCCAATGGGCTTTCGA\", \"CTACAGGTACCGGTCCTGAG\", \"CATGTTGCCCTGAGGCACAG\", \"GGTCGTCGCATCACAATGCG\"]\n",
    "rev_primers_rc = [\"ATGTGGGCCCGGCACCTTAA\", \"GTCGAGAGCAGTCCTTCGAC\", \"AGCCGCTTAAGAGCCTGTCG\", \"GTACCTAGCGTGACGATCCG\", \"CCGTTAGGTCCCGAAAGGCT\", \"TCTCGAGCGCCAATGTGACG\"]\n",
    "rev_primers = [reverse_complement(s) for s in rev_primers_rc]\n",
    "\n",
    "ENSP_d = get_ENSP_d()\n",
    "HUGO_d = get_HUGO_d()"
   ]
  },
  {
   "cell_type": "code",
   "execution_count": 15,
   "metadata": {},
   "outputs": [],
   "source": [
    "data_ABE_1 = pd.read_pickle(\"data/all_ABE.pkl\")\n",
    "data_CBE_1 = pd.read_pickle(\"data/all_evoCDA.pkl\")"
   ]
  },
  {
   "cell_type": "code",
   "execution_count": 19,
   "metadata": {},
   "outputs": [],
   "source": [
    "# For saturated profiling (Fig 1)\n",
    "# Each sublibrary can be amplified by a unique pair of PCR primers.\n",
    "sublib_ID = 0\n",
    "target_genes = ['EGFR'] # This is an example.\n",
    "\n",
    "data_ABE_2 = clean_data_input_global(data=data_ABE_1, target_genes=target_genes)\n",
    "data_CBE_2 = clean_data_input_global(data=data_CBE_1, target_genes=target_genes)\n",
    "\n",
    "HUGO_input = {sublib_ID: target_genes}\n",
    "\n",
    "result = get_sgRNA_main(sublib_ID=sublib_ID, HUGO_input=HUGO_input, data_ABE=data_ABE_2, data_CBE=data_CBE_2)\n",
    "clean_result = remove_bad_oligos(result)\n",
    "\n",
    "control = get_sgRNA_control(sublib_ID=sublib_ID, top_N=100)\n",
    "clean_control = remove_bad_oligos(control)\n",
    "\n",
    "#clean_result.to_csv('clean_result.csv')\n",
    "#clean_control.to_csv('clean_control.csv')"
   ]
  },
  {
   "cell_type": "code",
   "execution_count": 17,
   "metadata": {},
   "outputs": [],
   "source": [
    "# For local saturated editing (Fig 3)\n",
    "# Use Cys +/- 3 amino acid (7-aa-window to increase sgRNA coverage of the site).\n",
    "sublib_ID = 2\n",
    "\n",
    "Cys_df = pd.read_csv(\"data/target_Cys.csv\")\n",
    "ID_set = get_ID_set(Cys_df)\n",
    "target_genes = list(set(Cys_df['HUGO']))\n",
    "\n",
    "data_ABE_2 = clean_data_input_global(data=data_ABE_1, target_genes=target_genes)\n",
    "data_CBE_2 = clean_data_input_global(data=data_CBE_1, target_genes=target_genes)\n",
    "\n",
    "data_ABE_3 = clean_data_input_local_saturated(data=data_ABE_2, ID_set=ID_set)\n",
    "data_CBE_3 = clean_data_input_local_saturated(data=data_CBE_2, ID_set=ID_set)\n",
    "\n",
    "HUGO_input = {sublib_ID: target_genes}\n",
    "\n",
    "result = get_sgRNA_main(sublib_ID=sublib_ID, HUGO_input=HUGO_input, data_ABE=data_ABE_3, data_CBE=data_CBE_3)\n",
    "clean_result = remove_bad_oligos(result)\n",
    "\n",
    "control = get_sgRNA_control(sublib_ID=sublib_ID, top_N=70)\n",
    "clean_control = remove_bad_oligos(control)\n",
    "\n",
    "#clean_result.to_csv('clean_result.csv')\n",
    "#clean_control.to_csv('clean_control.csv')"
   ]
  },
  {
   "cell_type": "code",
   "execution_count": null,
   "metadata": {},
   "outputs": [],
   "source": []
  },
  {
   "cell_type": "code",
   "execution_count": null,
   "metadata": {},
   "outputs": [],
   "source": []
  },
  {
   "cell_type": "code",
   "execution_count": null,
   "metadata": {},
   "outputs": [],
   "source": []
  }
 ],
 "metadata": {
  "kernelspec": {
   "display_name": "Python 3",
   "language": "python",
   "name": "python3"
  },
  "language_info": {
   "codemirror_mode": {
    "name": "ipython",
    "version": 3
   },
   "file_extension": ".py",
   "mimetype": "text/x-python",
   "name": "python",
   "nbconvert_exporter": "python",
   "pygments_lexer": "ipython3",
   "version": "3.7.4"
  }
 },
 "nbformat": 4,
 "nbformat_minor": 2
}
